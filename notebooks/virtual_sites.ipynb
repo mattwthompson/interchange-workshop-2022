{
 "cells": [
  {
   "cell_type": "code",
   "execution_count": null,
   "metadata": {
    "pycharm": {
     "name": "#%%\n"
    }
   },
   "outputs": [],
   "source": [
    "from typing import List, Tuple\n",
    "\n",
    "import numpy as np\n",
    "import openmm\n",
    "import openmm.app\n",
    "from openff.interchange import Interchange\n",
    "from openff.interchange.interop.openmm import to_openmm_positions\n",
    "from openff.toolkit import ForceField, Molecule, Topology\n",
    "from openff.units import unit\n",
    "from openff.units.openmm import ensure_quantity\n",
    "from openmm import unit as openmm_unit"
   ]
  },
  {
   "cell_type": "code",
   "execution_count": null,
   "metadata": {},
   "outputs": [],
   "source": [
    "def prepare_simulation(\n",
    "    openmm_topology: openmm.app.Topology,\n",
    "    openmm_system: openmm.System,\n",
    "    positions: unit.Quantity,\n",
    "    trj_freq: int = 100,\n",
    "    data_freq: int = 100,\n",
    ") -> openmm.app.Simulation:\n",
    "    \"\"\"Propagate an OpenMM System with Langevin dynamics.\"\"\"\n",
    "    time_step = 2 * openmm_unit.femtoseconds\n",
    "    temperature = 300 * openmm_unit.kelvin\n",
    "    friction = 1 / openmm_unit.picosecond\n",
    "    integrator = openmm.LangevinIntegrator(temperature, friction, time_step)\n",
    "\n",
    "    simulation = openmm.app.Simulation(openmm_topology, openmm_system, integrator)\n",
    "\n",
    "    assert positions.shape[0] == openmm_topology.getNumAtoms()\n",
    "    # n_virtual_sites = sum(atom.element is None for atom in openmm_topology.atoms())\n",
    "    # _positions = np.concatenate(\n",
    "    #    (molecule.conformers[0], np.zeros((n_virtual_sites, 3))), axis=0\n",
    "    # )\n",
    "    # positions = to_openmm(_positions)\n",
    "    simulation.context.setPositions(ensure_quantity(positions, \"openmm\"))\n",
    "\n",
    "    # It's important to run energy minimization before computing velocities; otherwise the initial\n",
    "    # velocities may be too high as a result of high initial forces, causing a crash\n",
    "    # See https://github.com/openmm/openmm/issues/3736#issuecomment-1217250635\n",
    "    simulation.minimizeEnergy()\n",
    "\n",
    "    # Since we placed all virtual sites at [0.0, 0.0, 0.0], compute virtual site positions to avoid a crash\n",
    "    simulation.context.computeVirtualSites()\n",
    "\n",
    "    simulation.context.setVelocitiesToTemperature(temperature)\n",
    "\n",
    "    pdb_reporter = openmm.app.PDBReporter(\"trajectory.pdb\", trj_freq)\n",
    "    state_data_reporter = openmm.app.StateDataReporter(\n",
    "        \"data.csv\",\n",
    "        data_freq,\n",
    "        step=True,\n",
    "        potentialEnergy=True,\n",
    "        temperature=True,\n",
    "        density=True,\n",
    "    )\n",
    "    simulation.reporters.append(pdb_reporter)\n",
    "    simulation.reporters.append(state_data_reporter)\n",
    "\n",
    "    return simulation\n",
    "\n",
    "\n",
    "def run_simulation(simulation: openmm.app.Simulation, num_steps: int = 1000):\n",
    "    import time\n",
    "\n",
    "    print(\"Starting simulation\")\n",
    "    start = time.process_time()\n",
    "\n",
    "    simulation.step(num_steps)\n",
    "\n",
    "    end = time.process_time()\n",
    "    print(\"Elapsed time %.2f seconds\" % (end - start))\n",
    "    print(\"Done!\")"
   ]
  },
  {
   "cell_type": "markdown",
   "metadata": {
    "pycharm": {
     "name": "#%% md\n"
    }
   },
   "source": [
    "## Part 1: Adding virtual sites to a ligand"
   ]
  },
  {
   "cell_type": "code",
   "execution_count": null,
   "metadata": {
    "pycharm": {
     "name": "#%%\n"
    }
   },
   "outputs": [],
   "source": [
    "vsite_offxml = \"\"\"<?xml version=\"1.0\" encoding=\"utf-8\"?>\n",
    "<SMIRNOFF version=\"0.3\" aromaticity_model=\"OEAroModel_MDL\">\n",
    "    <VirtualSites version=\"0.3\">\n",
    "        <VirtualSite\n",
    "            type=\"DivalentLonePair\"\n",
    "            name=\"EP\"\n",
    "            smirks=\"[*:2]-[#16X2:1]-[*:3]\"\n",
    "            distance=\"0.70 * angstrom\"\n",
    "            charge_increment1=\"0.1205*elementary_charge\"\n",
    "            charge_increment2=\"0.0*elementary_charge\"\n",
    "            charge_increment3=\"0.1205*elementary_charge\"\n",
    "            sigma=\"0.1*angstrom\"\n",
    "            epsilon=\"0.0*kilocalories_per_mole\"\n",
    "            outOfPlaneAngle=\"54.71384225*degree\"\n",
    "            match=\"all_permutations\" >\n",
    "        </VirtualSite>\n",
    "        <VirtualSite\n",
    "            type=\"BondCharge\"\n",
    "            name=\"EP\"\n",
    "            smirks=\"[*:2][Cl:1]\"\n",
    "            distance=\"0.4*angstrom\"\n",
    "            charge_increment1=\"0.2*elementary_charge\"\n",
    "            charge_increment2=\"0.0*elementary_charge\"\n",
    "            sigma=\"0.1*angstrom\"\n",
    "            epsilon=\"0.05*kilocalories_per_mole\"\n",
    "            match=\"all_permutations\" >\n",
    "        </VirtualSite>\n",
    "        <VirtualSite\n",
    "            type=\"BondCharge\"\n",
    "            name=\"EP\"\n",
    "            smirks=\"[*:2][F:1]\"\n",
    "            distance=\"0.4*angstrom\"\n",
    "            charge_increment1=\"0.2*elementary_charge\"\n",
    "            charge_increment2=\"0.0*elementary_charge\"\n",
    "            sigma=\"0.1*angstrom\"\n",
    "            epsilon=\"0.05*kilocalories_per_mole\"\n",
    "            match=\"all_permutations\" >\n",
    "        </VirtualSite>\n",
    "    </VirtualSites>\n",
    "</SMIRNOFF>\n",
    "\"\"\"\n",
    "force_field = ForceField(\"openff-2.0.0.offxml\", vsite_offxml)"
   ]
  },
  {
   "cell_type": "code",
   "execution_count": null,
   "metadata": {
    "pycharm": {
     "name": "#%%\n"
    }
   },
   "outputs": [],
   "source": [
    "molecule = Molecule.from_smiles(\"c1cc(Cl)ccc1C(=O)CS[C]1=CO[C](F)(F)CC1\")\n",
    "molecule.generate_conformers(n_conformers=1)\n",
    "molecule.visualize()"
   ]
  },
  {
   "cell_type": "code",
   "execution_count": null,
   "metadata": {
    "pycharm": {
     "name": "#%%\n"
    }
   },
   "outputs": [],
   "source": [
    "# Create an Interchange object, which stores information needed for OpenMM (and other engines)\n",
    "# to understand virtual sites as applied by a force field\n",
    "\n",
    "interchange = Interchange.from_smirnoff(\n",
    "    force_field=force_field, topology=molecule.to_topology()\n",
    ")\n",
    "\n",
    "assert \"VirtualSites\" in interchange.handlers.keys()"
   ]
  },
  {
   "cell_type": "markdown",
   "metadata": {},
   "source": [
    "At this point, each of our OpenFF objects have processed and stored all of the information needed to run a simulation in OpenMM. Next we need to do some conversions prepare the OpenMM objects. First we'll make an _OpenMM_ `Topology` and a corresponding _OpenMM_ `System`, each containing virtual sites."
   ]
  },
  {
   "cell_type": "code",
   "execution_count": null,
   "metadata": {},
   "outputs": [],
   "source": [
    "# Note that interchange.topology.to_openmm() uses a different code path that DOES NOT include virtual sites\n",
    "openmm_topology: openmm.app.Topology = interchange.to_openmm_topology()\n",
    "\n",
    "openmm_system: openmm.System = interchange.to_openmm(combine_nonbonded_forces=True)"
   ]
  },
  {
   "cell_type": "code",
   "execution_count": null,
   "metadata": {},
   "outputs": [],
   "source": [
    "# Retrieve the number of virtualsites in this system/topology by counting\n",
    "# the number of \"Atoms\" in the OpenMM `Toppology` with a `None` element\n",
    "# (this method returns virtual sites as welll, despite the name) ...\n",
    "n_virtual_sites = sum(atom.element is None for atom in openmm_topology.atoms())\n",
    "\n",
    "# or the number of particles in the OpenMM `System` with zero mass\n",
    "assert n_virtual_sites == sum(\n",
    "    openmm_system.getParticleMass(index)._value == 0\n",
    "    for index in range(openmm_system.getNumParticles())\n",
    ")\n",
    "\n",
    "# This can also be done by inspecting the virtual site handler in the Interchange object\n",
    "assert n_virtual_sites == len(interchange[\"VirtualSites\"].slot_map)\n",
    "\n",
    "print(f\"There are {n_virtual_sites} virtual particles in this topology.\")"
   ]
  },
  {
   "cell_type": "code",
   "execution_count": null,
   "metadata": {
    "pycharm": {
     "name": "#%%\n"
    }
   },
   "outputs": [],
   "source": [
    "simulation = prepare_simulation(\n",
    "    openmm_topology=openmm_topology,\n",
    "    openmm_system=openmm_system,\n",
    "    positions=to_openmm_positions(interchange),\n",
    ")\n",
    "\n",
    "run_simulation(simulation, 10000)"
   ]
  },
  {
   "cell_type": "code",
   "execution_count": null,
   "metadata": {},
   "outputs": [],
   "source": [
    "import mdtraj\n",
    "import nglview\n",
    "\n",
    "# Visualize the trajectory. There will probably be errant bonds drawn between atoms and virtual sites.\n",
    "nglview.show_mdtraj(mdtraj.load(\"trajectory.pdb\"))"
   ]
  },
  {
   "cell_type": "markdown",
   "metadata": {
    "pycharm": {
     "name": "#%% md\n"
    }
   },
   "source": [
    "## Part 2: Solvating this ligand in TIP4P water"
   ]
  },
  {
   "cell_type": "code",
   "execution_count": null,
   "metadata": {},
   "outputs": [],
   "source": [
    "from openff.interchange.tests import get_test_file_path\n",
    "\n",
    "force_field_tip4p = ForceField(\n",
    "    \"openff_unconstrained-2.0.0.offxml\",\n",
    "    vsite_offxml,\n",
    "    get_test_file_path(\"tip4p.offxml\"),\n",
    ")"
   ]
  },
  {
   "cell_type": "code",
   "execution_count": null,
   "metadata": {},
   "outputs": [],
   "source": [
    "ForceField(\"openff-1.0.0.offxml\")[\"LibraryCharges\"].parameters"
   ]
  },
  {
   "cell_type": "code",
   "execution_count": null,
   "metadata": {},
   "outputs": [],
   "source": [
    "force_field_tip4p[\"LibraryCharges\"].parameters"
   ]
  },
  {
   "cell_type": "code",
   "execution_count": null,
   "metadata": {},
   "outputs": [],
   "source": [
    "force_field_tip4p[\"VirtualSites\"].parameters[-1]"
   ]
  },
  {
   "cell_type": "code",
   "execution_count": null,
   "metadata": {},
   "outputs": [],
   "source": [
    "import numpy\n",
    "from openff.evaluator.utils.packmol import pack_box\n",
    "\n",
    "# Construct a water molecule\n",
    "water = Molecule.from_smiles(\"O\")\n",
    "water.generate_conformers(n_conformers=1)\n",
    "\n",
    "# Estimate 80% of the density of waters that would solvate this ligand in a 3 nm box\n",
    "box_size = unit.Quantity(3.0 * numpy.ones(3), unit.nanometer)\n",
    "box_volume = numpy.prod(box_size)\n",
    "water_molecule_volume = 18 * unit.amu / (800 * unit.kilogram / unit.meter**3)\n",
    "\n",
    "num_water = int((box_volume / water_molecule_volume).to(unit.dimensionless))\n",
    "\n",
    "interchange.to_pdb(\"ligand.pdb\")\n",
    "\n",
    "packed_trj, _ = pack_box(\n",
    "    molecules=[water],\n",
    "    number_of_copies=[num_water],\n",
    "    structure_to_solvate=\"ligand.pdb\",\n",
    "    box_size=box_size,\n",
    ")\n",
    "\n",
    "xyz = packed_trj.xyz[0] * unit.nanometer\n",
    "box = packed_trj.unitcell_vectors[0] * unit.nanometer"
   ]
  },
  {
   "cell_type": "code",
   "execution_count": null,
   "metadata": {},
   "outputs": [],
   "source": [
    "topology = Topology.from_molecules([molecule, *num_water * [water]])\n",
    "\n",
    "topology.box_vectors = box\n",
    "topology.set_positions(xyz)"
   ]
  },
  {
   "cell_type": "code",
   "execution_count": null,
   "metadata": {},
   "outputs": [],
   "source": [
    "solvated_interchange = Interchange.from_smirnoff(\n",
    "    force_field=force_field_tip4p,\n",
    "    topology=topology,\n",
    ")"
   ]
  },
  {
   "cell_type": "code",
   "execution_count": null,
   "metadata": {},
   "outputs": [],
   "source": [
    "Interchange.from_smirnoff(\n",
    "    force_field=ForceField(\n",
    "        get_test_file_path(\"tip4p.offxml\"),\n",
    "        \"openff_unconstrained-2.0.0.offxml\",\n",
    "        vsite_offxml,\n",
    "    ),\n",
    "    topology=topology,\n",
    ")[\"VirtualSites\"].slot_map"
   ]
  },
  {
   "cell_type": "code",
   "execution_count": null,
   "metadata": {},
   "outputs": [],
   "source": [
    "simulation = prepare_simulation(\n",
    "    openmm_topology=solvated_interchange.to_openmm_topology(),\n",
    "    openmm_system=solvated_interchange.to_openmm(combine_nonbonded_forces=True),\n",
    "    positions=to_openmm_positions(solvated_interchange),\n",
    "    trj_freq=10,\n",
    ")\n",
    "\n",
    "run_simulation(simulation, 1000)"
   ]
  },
  {
   "cell_type": "code",
   "execution_count": null,
   "metadata": {},
   "outputs": [],
   "source": [
    "trajectory = mdtraj.load(\"trajectory.pdb\")\n",
    "\n",
    "view = nglview.show_mdtraj(trajectory)\n",
    "view.clear_representations()\n",
    "view.add_representation(\n",
    "    \"ball+stick\",\n",
    "    selection=[*range(trajectory.topology.residue(0).n_atoms)],\n",
    ")\n",
    "view.add_representation(\n",
    "    \"spacefill\",\n",
    "    radius=0.4,\n",
    "    selection=[\n",
    "        *range(trajectory.topology.residue(0).n_atoms, trajectory.topology.n_atoms)\n",
    "    ],\n",
    ")\n",
    "view"
   ]
  }
 ],
 "metadata": {
  "kernelspec": {
   "display_name": "Python 3 (ipykernel)",
   "language": "python",
   "name": "python3"
  },
  "language_info": {
   "codemirror_mode": {
    "name": "ipython",
    "version": 3
   },
   "file_extension": ".py",
   "mimetype": "text/x-python",
   "name": "python",
   "nbconvert_exporter": "python",
   "pygments_lexer": "ipython3",
   "version": "3.9.13"
  },
  "vscode": {
   "interpreter": {
    "hash": "ec854787c9f145fd63cdd57e780479696460a9ad39dc2aba16d4b713544fa933"
   }
  }
 },
 "nbformat": 4,
 "nbformat_minor": 4
}

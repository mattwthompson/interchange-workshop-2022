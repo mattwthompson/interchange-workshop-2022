{
 "cells": [
  {
   "cell_type": "code",
   "execution_count": null,
   "metadata": {
    "pycharm": {
     "name": "#%%\n"
    }
   },
   "outputs": [],
   "source": [
    "from typing import List, Tuple\n",
    "\n",
    "import numpy as np\n",
    "import openmm\n",
    "import openmm.app\n",
    "from openff.interchange import Interchange\n",
    "from openff.interchange.interop.openmm import to_openmm_positions\n",
    "from openff.toolkit import ForceField, Molecule, Topology\n",
    "from openff.units import unit\n",
    "from openff.units.openmm import to_openmm\n",
    "from openmm import unit as openmm_unit"
   ]
  },
  {
   "cell_type": "code",
   "execution_count": null,
   "metadata": {},
   "outputs": [],
   "source": [
    "def prepare_simulation(\n",
    "    openmm_topology: openmm.app.Topology,\n",
    "    openmm_system: openmm.System,\n",
    "    positions: unit.Quantity,\n",
    ") -> openmm.app.Simulation:\n",
    "    \"\"\"Propagate an OpenMM System with Langevin dynamics.\"\"\"\n",
    "    time_step = 2 * openmm_unit.femtoseconds\n",
    "    temperature = 300 * openmm_unit.kelvin\n",
    "    friction = 1 / openmm_unit.picosecond\n",
    "    integrator = openmm.LangevinIntegrator(temperature, friction, time_step)\n",
    "\n",
    "    trj_freq, data_freq = 100, 100\n",
    "\n",
    "    simulation = openmm.app.Simulation(openmm_topology, openmm_system, integrator)\n",
    "\n",
    "    n_virtual_sites = sum(atom.element is None for atom in openmm_topology.atoms())\n",
    "    _positions = np.concatenate(\n",
    "        (molecule.conformers[0], np.zeros((n_virtual_sites, 3))), axis=0\n",
    "    )\n",
    "    positions = to_openmm(_positions)\n",
    "    simulation.context.setPositions(positions)\n",
    "\n",
    "    # It's important to run energy minimization before computing velocities; otherwise the initial\n",
    "    # velocities may be too high as a result of high initial forces, causing a crash\n",
    "    # See https://github.com/openmm/openmm/issues/3736#issuecomment-1217250635\n",
    "    simulation.minimizeEnergy()\n",
    "\n",
    "    # Since we placed all virtual sites at [0.0, 0.0, 0.0], compute virtual site positions to avoid a crash\n",
    "    simulation.context.computeVirtualSites()\n",
    "\n",
    "    simulation.context.setVelocitiesToTemperature(temperature)\n",
    "\n",
    "    pdb_reporter = openmm.app.PDBReporter(\"trajectory.pdb\", trj_freq)\n",
    "    state_data_reporter = openmm.app.StateDataReporter(\n",
    "        \"data.csv\",\n",
    "        data_freq,\n",
    "        step=True,\n",
    "        potentialEnergy=True,\n",
    "        temperature=True,\n",
    "        density=True,\n",
    "    )\n",
    "    simulation.reporters.append(pdb_reporter)\n",
    "    simulation.reporters.append(state_data_reporter)\n",
    "\n",
    "    return simulation\n",
    "\n",
    "\n",
    "def run_simulation(simulation: openmm.app.Simulation, num_steps: int = 1000):\n",
    "    import time\n",
    "\n",
    "    print(\"Starting simulation\")\n",
    "    start = time.process_time()\n",
    "\n",
    "    simulation.step(num_steps)\n",
    "\n",
    "    end = time.process_time()\n",
    "    print(\"Elapsed time %.2f seconds\" % (end - start))\n",
    "    print(\"Done!\")"
   ]
  },
  {
   "cell_type": "markdown",
   "metadata": {
    "pycharm": {
     "name": "#%% md\n"
    }
   },
   "source": [
    "## Part 1: Adding virtual sites to a ligand"
   ]
  },
  {
   "cell_type": "code",
   "execution_count": null,
   "metadata": {
    "pycharm": {
     "name": "#%%\n"
    }
   },
   "outputs": [],
   "source": [
    "vsite_offxml = \"\"\"<?xml version=\"1.0\" encoding=\"utf-8\"?>\n",
    "<SMIRNOFF version=\"0.3\" aromaticity_model=\"OEAroModel_MDL\">\n",
    "    <VirtualSites version=\"0.3\">\n",
    "        <VirtualSite\n",
    "            type=\"DivalentLonePair\"\n",
    "            name=\"EP\"\n",
    "            smirks=\"[*:2]-[#16X2:1]-[*:3]\"\n",
    "            distance=\"0.70 * angstrom\"\n",
    "            charge_increment1=\"0.1205*elementary_charge\"\n",
    "            charge_increment2=\"0.0*elementary_charge\"\n",
    "            charge_increment3=\"0.1205*elementary_charge\"\n",
    "            sigma=\"0.1*angstrom\"\n",
    "            epsilon=\"0.0*kilocalories_per_mole\"\n",
    "            outOfPlaneAngle=\"54.71384225*degree\"\n",
    "            match=\"all_permutations\" >\n",
    "        </VirtualSite>\n",
    "        <VirtualSite\n",
    "            type=\"BondCharge\"\n",
    "            name=\"EP\"\n",
    "            smirks=\"[*:2][Cl:1]\"\n",
    "            distance=\"0.4*angstrom\"\n",
    "            charge_increment1=\"0.2*elementary_charge\"\n",
    "            charge_increment2=\"0.0*elementary_charge\"\n",
    "            sigma=\"0.1*angstrom\"\n",
    "            epsilon=\"0.05*kilocalories_per_mole\"\n",
    "            match=\"all_permutations\" >\n",
    "        </VirtualSite>\n",
    "        <VirtualSite\n",
    "            type=\"BondCharge\"\n",
    "            name=\"EP\"\n",
    "            smirks=\"[*:2][F:1]\"\n",
    "            distance=\"0.4*angstrom\"\n",
    "            charge_increment1=\"0.2*elementary_charge\"\n",
    "            charge_increment2=\"0.0*elementary_charge\"\n",
    "            sigma=\"0.1*angstrom\"\n",
    "            epsilon=\"0.05*kilocalories_per_mole\"\n",
    "            match=\"all_permutations\" >\n",
    "        </VirtualSite>\n",
    "    </VirtualSites>\n",
    "</SMIRNOFF>\n",
    "\"\"\"\n",
    "force_field = ForceField(\"openff-2.0.0.offxml\", vsite_offxml)"
   ]
  },
  {
   "cell_type": "code",
   "execution_count": null,
   "metadata": {
    "pycharm": {
     "name": "#%%\n"
    }
   },
   "outputs": [],
   "source": [
    "molecule = Molecule.from_smiles(\"c1cc(Cl)ccc1C(=O)CS[C]1=CO[C](F)(F)CC1\")\n",
    "molecule.generate_conformers(n_conformers=1)\n",
    "molecule.visualize()"
   ]
  },
  {
   "cell_type": "code",
   "execution_count": null,
   "metadata": {
    "pycharm": {
     "name": "#%%\n"
    }
   },
   "outputs": [],
   "source": [
    "# Create an Interchange object, which stores information needed for OpenMM (and other engines)\n",
    "# to understand virtual sites as applied by a force field\n",
    "\n",
    "interchange = Interchange.from_smirnoff(\n",
    "    force_field=force_field, topology=molecule.to_topology()\n",
    ")\n",
    "\n",
    "assert \"VirtualSites\" in interchange.handlers.keys()"
   ]
  },
  {
   "cell_type": "markdown",
   "metadata": {},
   "source": [
    "At this point, each of our OpenFF objects have processed and stored all of the information needed to run a simulation in OpenMM. Next we need to do some conversions prepare the OpenMM objects. First we'll make an _OpenMM_ `Topology` and a corresponding _OpenMM_ `System`, each containing virtual sites."
   ]
  },
  {
   "cell_type": "code",
   "execution_count": null,
   "metadata": {},
   "outputs": [],
   "source": [
    "# Note that interchange.topology.to_openmm() uses a different code path that DOES NOT include virtual sites\n",
    "openmm_topology: openmm.app.Topology = interchange.to_openmm_topology()\n",
    "\n",
    "openmm_system: openmm.System = interchange.to_openmm(combine_nonbonded_forces=True)"
   ]
  },
  {
   "cell_type": "code",
   "execution_count": null,
   "metadata": {},
   "outputs": [],
   "source": [
    "# Retrieve the number of virtualsites in this system/topology by counting\n",
    "# the number of \"Atoms\" in the OpenMM `Toppology` with a `None` element\n",
    "# (this method returns virtual sites as welll, despite the name) ...\n",
    "n_virtual_sites = sum(atom.element is None for atom in openmm_topology.atoms())\n",
    "\n",
    "# or the number of particles in the OpenMM `System` with zero mass\n",
    "assert n_virtual_sites == sum(\n",
    "    openmm_system.getParticleMass(index)._value == 0\n",
    "    for index in range(openmm_system.getNumParticles())\n",
    ")\n",
    "\n",
    "# This can also be done by inspecting the virtual site handler in the Interchange object\n",
    "assert n_virtual_sites == len(interchange[\"VirtualSites\"].slot_map)\n",
    "\n",
    "print(f\"There are {n_virtual_sites} virtual particles in this topology.\")"
   ]
  },
  {
   "cell_type": "code",
   "execution_count": null,
   "metadata": {
    "pycharm": {
     "name": "#%%\n"
    }
   },
   "outputs": [],
   "source": [
    "simulation = prepare_simulation(\n",
    "    openmm_topology=openmm_topology,\n",
    "    openmm_system=openmm_system,\n",
    "    positions=to_openmm_positions(interchange),\n",
    ")\n",
    "\n",
    "run_simulation(simulation, 10000)"
   ]
  },
  {
   "cell_type": "code",
   "execution_count": null,
   "metadata": {},
   "outputs": [],
   "source": [
    "import mdtraj\n",
    "import nglview\n",
    "\n",
    "# Visualize the trajectory. There will probably be errant bonds drawn between atoms and virtual sites.\n",
    "nglview.show_mdtraj(mdtraj.load(\"trajectory.pdb\"))"
   ]
  },
  {
   "cell_type": "markdown",
   "metadata": {
    "pycharm": {
     "name": "#%% md\n"
    }
   },
   "source": [
    "## Part 2: Numerical comparison of OpenMM's TIP5P and an equivalent SMIRNOFF implementation"
   ]
  },
  {
   "cell_type": "markdown",
   "metadata": {
    "pycharm": {
     "name": "#%% md\n"
    }
   },
   "source": [
    "Parameterizes a water box with OpenFF and OpenMM force fields. Currently set up\n",
    "to use a TIP5P definition. The code examines the geometry and energy between the\n",
    "two, and examines cases where minimization is performed. Specifically, the code\n",
    "compares the four possible combinations:\n",
    "    - oFF and oMM geometry/energy, minimized separately and then compared\n",
    "    - oFF and oMM geometry/energy using no minimization\n",
    "    - Geometry minimized using oFF, then a single point is done with oMM\n",
    "    - Geometry minimized using oMM, then a single point is done with oFF\n",
    "\n",
    "The virtual site definitions give differences in geometry and energy mostly due\n",
    "to how they were defined from their parent atoms. OpenMM uses an OutOfPlaneSite\n",
    "definition, whereas OpenFF uses the LocalCoordinatesSite definition (both are\n",
    "OpenMM types). In the OutOfPlaneSite definition, both angle and distance are\n",
    "variable since the defined out-of-plane angle depends on a weighted vector cross.\n",
    "The cross is a function of the O-H vectors, so the virtual sites are sensitive\n",
    "to the molecular geometry. In the OpenFF version, the distance is fixed to a constant\n",
    "value, and the out-of-plane angle is explicitly required in the OpenFF spec.\n",
    "\n",
    "In this example, the OpenFF parameter definition (the \"offxml\") is a string\n",
    "further below in the `main` function, and can be easily modified to explore\n",
    "force field parameterization. The OpenMM definition is loaded from its internal\n",
    "default location, and acts as a reference. One can change this this to a different\n",
    "filename to compare other force fields.\n",
    "\n",
    "This example is somewhat hardcoded to operate on water molecules, but can be easily\n",
    "modified to examine other cases as well. The only major assumption is that the\n",
    "system is homogenous, i.e., all of the molecules are same. The reason this is\n",
    "assumed is mostly due to the difference in how virtual sites are handled between\n",
    "OpenFF and OpenMM. Whereas OpenMM interleaves the virtual site particles between\n",
    "the atomic particles, OpenFF instead aggregates all virtual sites and places them\n",
    "last. The code below does assume that, barring this difference, the virtual sites\n",
    "are added in the same order.\n",
    "\n",
    "The example begins in `run_tests` by defining a grid of water molecules, with\n",
    "the default being a single water molecule (Nx=1, Ny=1, Nz=1). From this, the\n",
    "calculations described in the first paragraph above are performed. The energy\n",
    "difference and distance between the two geometries, per atom, is then reported.\n",
    "There are commented lines that print the entire set of coordinates, and can be\n",
    "uncommented if desired."
   ]
  },
  {
   "cell_type": "code",
   "execution_count": null,
   "metadata": {},
   "outputs": [],
   "source": [
    "def _collate_virtual_site_positions(atom_positions: np.ndarray) -> np.ndarray:\n",
    "    \"\"\"Given an array of atomic positions of water, collate virtual particles between molecules.\"\"\"\n",
    "    padded_positions = np.zeros(shape=(2, 3))\n",
    "    num_atoms_per_mol = 3\n",
    "\n",
    "    def mol_positions(i, atom_positions):\n",
    "        this_mol_atom_coordinates = atom_positions[\n",
    "            i * num_atoms_per_mol : (i + 1) * num_atoms_per_mol\n",
    "        ]\n",
    "        return np.vstack([this_mol_atom_coordinates, padded_positions])\n",
    "\n",
    "    return np.vstack([mol_positions(i, atom_positions) for i in range(2)])"
   ]
  },
  {
   "cell_type": "code",
   "execution_count": null,
   "metadata": {
    "pycharm": {
     "name": "#%%\n"
    }
   },
   "outputs": [],
   "source": [
    "def _evaluate_positions_and_energy(\n",
    "    openmm_topology: openmm.app.Topology,\n",
    "    openmm_system: openmm.app.Simulation,\n",
    "    particle_positions: openmm_unit.Quantity,\n",
    "    minimize=False,\n",
    ") -> Tuple[np.ndarray, unit.Quantity]:\n",
    "    \"\"\"\n",
    "    Calculate particle positions and potential energy of the a system.\n",
    "\n",
    "    Parameters\n",
    "    ----------\n",
    "    openmm_topology: openmm.app.Topology, OpenMM Topology\n",
    "    openmm_system: openmm.app.System, OpenMM System\n",
    "    particle_positions: openff.units.unit.Quantity, (N, 3) array of positions in nanometers\n",
    "    minimize: bool, Whether or not to perform an energy minimization before calculating energy\n",
    "\n",
    "    Returns\n",
    "    -------\n",
    "    positions: numpy.ndarray, array of particle positions (as nanometers)\n",
    "    energy: openmm.unit.Quantity, The potential energy of the systems\n",
    "\n",
    "    \"\"\"\n",
    "\n",
    "    integrator = openmm.LangevinIntegrator(\n",
    "        300 * openmm_unit.kelvin,\n",
    "        1 / openmm_unit.picosecond,\n",
    "        0.002 * openmm_unit.picoseconds,\n",
    "    )\n",
    "\n",
    "    sim = openmm.app.Simulation(openmm_topology, openmm_system, integrator)\n",
    "\n",
    "    sim.context.setPositions(particle_positions)\n",
    "    sim.context.applyConstraints(1e-5)\n",
    "\n",
    "    if minimize:\n",
    "        sim.minimizeEnergy()\n",
    "\n",
    "    state = sim.context.getState(getEnergy=True, getPositions=True)\n",
    "    ene = state.getPotentialEnergy()\n",
    "    pos = openmm_unit.Quantity(\n",
    "        [\n",
    "            list(xyz)\n",
    "            for xyz in state.getPositions().value_in_unit(openmm_unit.nanometer)\n",
    "        ],\n",
    "        openmm_unit.nanometer,\n",
    "    )\n",
    "\n",
    "    return pos, ene"
   ]
  },
  {
   "cell_type": "code",
   "execution_count": null,
   "metadata": {
    "pycharm": {
     "name": "#%%\n"
    }
   },
   "outputs": [],
   "source": [
    "def build_water_lattice(\n",
    "    num_duplicates: List[int] = [1, 1, 1],\n",
    "    spacing: List[float] = [2.0, 2.0, 2.0],\n",
    ") -> List[Molecule]:\n",
    "    \"\"\"\n",
    "    Generate a box of water molecules as OpenFF Molecules\n",
    "\n",
    "    Parameters\n",
    "    ----------\n",
    "        num_duplicates: List[int], The number of molecules in each dimension\n",
    "        spacing: List[float], The spacing between the molecules in each dimension, implicitly in Angstrom\n",
    "\n",
    "    Returns\n",
    "    -------\n",
    "        water_box: List[Molecule], A list of Molecule objcets with a 3D conformation\n",
    "    \"\"\"\n",
    "    Lx, Ly, Lz = (num_duplicates[i] * spacing[i] for i in range(3))\n",
    "    Z, Y, X = np.mgrid[\n",
    "        0 : Lz : spacing[0],\n",
    "        0 : Ly : spacing[1],\n",
    "        0 : Lx : spacing[2],\n",
    "    ]\n",
    "    XYZ = [list(xyz) for xyz in zip(X.flat, Y.flat, Z.flat)]\n",
    "\n",
    "    water_box = list([None] * len(XYZ))\n",
    "    water_reference = Molecule.from_mapped_smiles(\"[O:1]([H:2])[H:3]\")\n",
    "    water_reference.atoms[0].name = \"O\"\n",
    "    water_reference.atoms[1].name = \"H1\"\n",
    "    water_reference.atoms[2].name = \"H2\"\n",
    "    # Add ideal TIP5P geometry\n",
    "    water_reference.add_conformer(\n",
    "        [[0.0, 0.0, 0.0], [-0.7815, 0.5526, 0.0], [0.7815, 0.5526, 0.0]] * unit.angstrom\n",
    "    )\n",
    "\n",
    "    for i, xyz in enumerate(XYZ):\n",
    "        water_box[i] = Molecule(water_reference)\n",
    "        water_box[i].conformers[0] = water_box[i].conformers[0] + xyz * unit.angstrom\n",
    "\n",
    "    return water_box"
   ]
  },
  {
   "cell_type": "code",
   "execution_count": null,
   "metadata": {
    "pycharm": {
     "name": "#%%\n"
    }
   },
   "outputs": [],
   "source": [
    "def evaluate_openmm(\n",
    "    water: List[Molecule],\n",
    "    openmm_force_field: openmm.app.ForceField,\n",
    "    minimize: bool = False,\n",
    "):\n",
    "    \"\"\"\n",
    "    Given a list of molecules and a force field definition, calculate the\n",
    "    positions and energy.\n",
    "\n",
    "    Parameters\n",
    "    ----------\n",
    "        water: List[Molecule], each with a 3D conformation\n",
    "        openmm_force_field: openmm.app.ForceField, OpenMM ForceField object\n",
    "        minimize: bool, default = False, whether the structure should be minimized\n",
    "\n",
    "    Returns\n",
    "    -------\n",
    "        xyz: List The coordinates of all particles in the system (OpenMM ordering)\n",
    "        ene: float, The potential energy\n",
    "    \"\"\"\n",
    "\n",
    "    # First, get an OpenMM Topology and atom positions with no virtual sites\n",
    "    _topology: openmm.app.Topology = Topology.from_molecules(water).to_openmm()\n",
    "\n",
    "    atom_positions_unitless = np.vstack(\n",
    "        [mol.conformers[0].m_as(unit.nanometer) for mol in water]\n",
    "    )\n",
    "    atom_positions = openmm_unit.Quantity(\n",
    "        atom_positions_unitless, openmm_unit.nanometer\n",
    "    )\n",
    "\n",
    "    # Use OpenMM's Modeller to add virtual particles as perscribed by the force field\n",
    "    modeller = openmm.app.Modeller(_topology, atom_positions)\n",
    "    modeller.addExtraParticles(openmm_force_field)\n",
    "\n",
    "    # This topology includes virtual particles, so we can use it to create a System\n",
    "    topology = modeller.getTopology()\n",
    "\n",
    "    system: openmm.System = openmm_force_field.createSystem(\n",
    "        topology, nonbondedMethod=openmm.app.NoCutoff\n",
    "    )\n",
    "\n",
    "    # Add positions of virtual particles now that the topology includes them\n",
    "    particle_positions = openmm_unit.Quantity(\n",
    "        _collate_virtual_site_positions(atom_positions), openmm_unit.nanometer\n",
    "    )\n",
    "\n",
    "    return _evaluate_positions_and_energy(\n",
    "        topology, system, particle_positions, minimize=minimize\n",
    "    )"
   ]
  },
  {
   "cell_type": "code",
   "execution_count": null,
   "metadata": {
    "pycharm": {
     "name": "#%%\n"
    }
   },
   "outputs": [],
   "source": [
    "def evaluate_openff(\n",
    "    water: List[Molecule],\n",
    "    force_field: ForceField,\n",
    "    minimize: bool = False,\n",
    "):\n",
    "    \"\"\"\n",
    "    Given a list of molecules and a force field definition, calculate the\n",
    "    positions and energy.\n",
    "\n",
    "    Parameters\n",
    "    ----------\n",
    "        water: List[Molecule], each with a 3D conformation\n",
    "        force_field: ForceField, an OpenFF ForceField object\n",
    "        minimize: boolean, default= False, whether the structure should be minimized\n",
    "\n",
    "    Returns\n",
    "    -------\n",
    "        xyz: list The coordinates of all particles in the system (OpenMM ordering)\n",
    "        ene: float, The potential energy\n",
    "    \"\"\"\n",
    "    openff_topology = Topology.from_molecules(water)\n",
    "    interchange = Interchange.from_smirnoff(force_field, openff_topology)\n",
    "\n",
    "    return _evaluate_positions_and_energy(\n",
    "        interchange.to_openmm_topology(),\n",
    "        interchange.to_openmm(combine_nonbonded_forces=True),\n",
    "        to_openmm(to_openmm_positions(interchange)),\n",
    "    )"
   ]
  },
  {
   "cell_type": "code",
   "execution_count": null,
   "metadata": {
    "pycharm": {
     "name": "#%%\n"
    }
   },
   "outputs": [],
   "source": [
    "def print_info(xyz, ene, name, crd_units=unit.angstrom) -> str:\n",
    "    print(f\"Results for: {name}\\nEnergy: {ene}\\nCoordinates:{xyz * crd_units}\\n\")"
   ]
  },
  {
   "cell_type": "code",
   "execution_count": null,
   "metadata": {
    "pycharm": {
     "name": "#%%\n"
    }
   },
   "outputs": [],
   "source": [
    "tip5p_offxml = \"\"\"<?xml version=\"1.0\" encoding=\"utf-8\"?>\n",
    "<SMIRNOFF version=\"0.3\" aromaticity_model=\"OEAroModel_MDL\">\n",
    "    <LibraryCharges version=\"0.3\">\n",
    "            <LibraryCharge name=\"tip5p\" smirks=\"[#1:1]-[#8X2H2+0:2]-[#1:3]\" charge1=\"0.*elementary_charge\" charge2=\"0.*elementary_charge\" charge3=\"0.*elementary_charge\"/>\n",
    "    </LibraryCharges>\n",
    "    <vdW version=\"0.3\" potential=\"Lennard-Jones-12-6\" combining_rules=\"Lorentz-Berthelot\" scale12=\"0.0\" scale13=\"0.0\" scale14=\"0.5\" scale15=\"1.0\" switch_width=\"0.0 * angstrom\" cutoff=\"10.0 * angstrom\" method=\"cutoff\">\n",
    "            <Atom smirks=\"[#1:1]-[#8X2H2+0]-[#1]\" epsilon=\"0. * mole**-1 * kilojoule\" id=\"n35\" sigma=\"1.0 * nanometer\"/>\n",
    "            <Atom smirks=\"[#1]-[#8X2H2+0:1]-[#1]\" epsilon=\"0.66944 * mole**-1 * kilojoule\" id=\"n35\" sigma=\"0.312 * nanometer\"/>\n",
    "    </vdW>\n",
    "     <Bonds version=\"0.4\" potential=\"harmonic\" fractional_bondorder_method=\"AM1-Wiberg\" fractional_bondorder_interpolation=\"linear\">\n",
    "        <Bond smirks=\"[#1:1]-[#8X2H2+0:2]-[#1]\" length=\"0.9572 * angstrom\" k=\"462750.4 * nanometer**-2 * mole**-1 * kilojoule\" id=\"b1\" />\n",
    "    </Bonds>\n",
    "    <Angles version=\"0.3\" potential=\"harmonic\">\n",
    "        <Angle smirks=\"[#1:1]-[#8X2H2+0:2]-[#1:3]\" angle=\"1.82421813418 * radian\" k=\"836.8 * mole**-1 * radian**-2 * kilojoule\" id=\"a1\" />\n",
    "    </Angles>\n",
    "    <VirtualSites version=\"0.3\">\n",
    "        <VirtualSite\n",
    "            type=\"DivalentLonePair\"\n",
    "            name=\"EP\"\n",
    "            smirks=\"[#1:2]-[#8X2H2+0:1]-[#1:3]\"\n",
    "            distance=\"0.70 * angstrom\"\n",
    "            charge_increment1=\"0.0*elementary_charge\"\n",
    "            charge_increment2=\"0.1205*elementary_charge\"\n",
    "            charge_increment3=\"0.1205*elementary_charge\"\n",
    "            sigma=\"10.0*angstrom\"\n",
    "            epsilon=\"0.0*kilocalories_per_mole\"\n",
    "            outOfPlaneAngle=\"54.735*degree\"\n",
    "            match=\"all_permutations\" >\n",
    "        </VirtualSite>\n",
    "    </VirtualSites>\n",
    "    <Electrostatics version=\"0.3\" method=\"PME\" scale12=\"0.0\" scale13=\"0.0\" scale14=\"0.833333\" scale15=\"1.0\" switch_width=\"0.0 * angstrom\" cutoff=\"9.0 * angstrom\"/>\n",
    "</SMIRNOFF>\n",
    "\"\"\""
   ]
  },
  {
   "cell_type": "code",
   "execution_count": null,
   "metadata": {
    "pycharm": {
     "name": "#%%\n"
    }
   },
   "outputs": [],
   "source": [
    "# The TIP5P force field in SMIRNOFF format\n",
    "openff_force_field = ForceField(tip5p_offxml)\n",
    "\n",
    "# The standard OpenMM definition of tip5p\n",
    "openmm_force_field = openmm.app.ForceField(\"tip5p.xml\")"
   ]
  },
  {
   "cell_type": "code",
   "execution_count": null,
   "metadata": {
    "pycharm": {
     "name": "#%%\n"
    }
   },
   "outputs": [],
   "source": [
    "minimize = False\n",
    "\n",
    "num_duplicates = (2, 1, 1)  # 2x2x2 = 8 water molecules\n",
    "spacing = (3.0, 3.0, 3.0)  # water spaced 3A apart in each direction\n",
    "\n",
    "np.set_printoptions(formatter={\"float_kind\": \"{:13.10f}\".format})\n",
    "\n",
    "waters = build_water_lattice(num_duplicates, spacing)\n",
    "\n",
    "off_crds, off_ene = evaluate_openff(waters, openff_force_field, minimize=minimize)\n",
    "off_crds = np.array(off_crds.value_in_unit(openmm_unit.angstrom))\n",
    "\n",
    "omm_crds, omm_ene = evaluate_openmm(waters, openmm_force_field, minimize=minimize)\n",
    "omm_crds = np.array(omm_crds.value_in_unit(openmm_unit.angstrom))\n",
    "\n",
    "print_info(\n",
    "    np.linalg.norm(off_crds - omm_crds, axis=1),\n",
    "    off_ene - omm_ene,\n",
    "    \"OpenFF - OpenMM norm\",\n",
    ")\n",
    "\n",
    "coordinate_difference = np.linalg.norm(off_crds - omm_crds) / np.prod(num_duplicates)\n",
    "energy_difference = abs(off_ene - omm_ene)\n",
    "\n",
    "\n",
    "# For some reason, there is a slight coordinate/energy difference between the OpenFF\n",
    "# TIP5P virtual sites and the OpenMM TIP5P virtual sites. The energy difference appears\n",
    "# to be entirely due to slightly different geometry.\n",
    "assert (\n",
    "    coordinate_difference < 0.04\n",
    "), f\"Coordinates differ by a norm of {coordinate_difference}\"\n",
    "assert (\n",
    "    energy_difference < 1.0 * openmm_unit.kilojoule_per_mole\n",
    "), f\"Energies differ by {energy_difference}\""
   ]
  }
 ],
 "metadata": {
  "kernelspec": {
   "display_name": "Python 3.9.13 ('openff-interchange-env')",
   "language": "python",
   "name": "python3"
  },
  "language_info": {
   "codemirror_mode": {
    "name": "ipython",
    "version": 3
   },
   "file_extension": ".py",
   "mimetype": "text/x-python",
   "name": "python",
   "nbconvert_exporter": "python",
   "pygments_lexer": "ipython3",
   "version": "3.9.13"
  },
  "vscode": {
   "interpreter": {
    "hash": "86c9b142c8dc60dd36d17e2a57efabbd2ed015b9d3db80dd77f3e0894d5aea85"
   }
  }
 },
 "nbformat": 4,
 "nbformat_minor": 4
}
